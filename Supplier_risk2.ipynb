{
  "cells": [
    {
      "cell_type": "code",
      "source": [
        "#---Importing libraries---\n",
        "import pandas as pd\n",
        "import numpy as np\n",
        "import time\n",
        "import re\n",
        "from datetime import datetime\n",
        "import matplotlib.pyplot as plt\n",
        "import seaborn as sns\n",
        "import warnings\n",
        "warnings.filterwarnings(\"ignore\")\n",
        "%matplotlib inline"
      ],
      "metadata": {
        "application/vnd.databricks.v1+cell": {
          "title": "",
          "showTitle": false,
          "inputWidgets": {},
          "nuid": "1efb42c2-ae57-46f6-a795-9360b8c894eb"
        },
        "id": "FlWdVr4gN37J"
      },
      "outputs": [],
      "execution_count": 1
    },
    {
      "cell_type": "code",
      "source": [
        "from sklearn.model_selection import train_test_split\n",
        "from sklearn.ensemble import RandomForestClassifier\n",
        "from sklearn.naive_bayes import GaussianNB\n",
        "from sklearn.svm import LinearSVC\n",
        "from sklearn.linear_model import LogisticRegression\n",
        "import xgboost as xgb\n",
        "\n",
        "from sklearn.metrics import classification_report, confusion_matrix\n",
        "from sklearn.metrics import accuracy_score\n",
        "\n",
        "from sklearn.compose import ColumnTransformer\n",
        "from sklearn.pipeline import Pipeline\n",
        "from sklearn import preprocessing\n",
        "from sklearn.preprocessing import StandardScaler, OneHotEncoder,OrdinalEncoder"
      ],
      "metadata": {
        "id": "sU-wi7zthZ1L"
      },
      "execution_count": 48,
      "outputs": []
    },
    {
      "cell_type": "code",
      "source": [
        "from google.colab import drive\n",
        "drive.mount('/content/drive')"
      ],
      "metadata": {
        "colab": {
          "base_uri": "https://localhost:8080/"
        },
        "id": "CdMAl3Te8EWh",
        "outputId": "5ea329f3-5246-431a-da82-1c7d5b51174b"
      },
      "execution_count": 3,
      "outputs": [
        {
          "output_type": "stream",
          "name": "stdout",
          "text": [
            "Mounted at /content/drive\n"
          ]
        }
      ]
    },
    {
      "cell_type": "code",
      "source": [
        "# File location and type\n",
        "df = pd.read_csv('/content/drive/MyDrive/Colab/supply_risk/clip_2.csv')\n",
        "df.head(5)"
      ],
      "metadata": {
        "application/vnd.databricks.v1+cell": {
          "title": "",
          "showTitle": false,
          "inputWidgets": {},
          "nuid": "ca7d39dc-274c-4d29-95e7-9a79babc63b8"
        },
        "id": "WnjVPZMyN37N",
        "outputId": "a1ea5cc4-80de-4d12-aee0-9d196a05c731",
        "colab": {
          "base_uri": "https://localhost:8080/",
          "height": 386
        }
      },
      "outputs": [
        {
          "output_type": "execute_result",
          "data": {
            "text/plain": [
              "   Vendor ID Plant         MATNR Material Requested Delv Date  \\\n",
              "0  100052427  BR02  3.000020e+11   Others           4/19/2022   \n",
              "1  100052427  BR02  3.000020e+11   Others            5/5/2022   \n",
              "2  100052427  BR02  3.000020e+11   Others            6/3/2022   \n",
              "3  100052427  BR02  3.000020e+11   Others           6/21/2022   \n",
              "4  100052427  BR02  3.000040e+11   Others           4/29/2022   \n",
              "\n",
              "  Requested Delv MM-YYYY  Requested Delv Week Actual Delv Date  \\\n",
              "0                 22-Apr                   17        4/19/2022   \n",
              "1                 22-May                   19         5/5/2022   \n",
              "2                 22-Jun                   23        4/19/2022   \n",
              "3                 22-Jun                   26         5/5/2022   \n",
              "4                 22-Apr                   18        4/28/2022   \n",
              "\n",
              "  Actual Delv MM-YYYY  Actual Delv Week  ... VGU Age VendorCountry  \\\n",
              "0              22-Apr                17  ...       5            BR   \n",
              "1              22-May                19  ...       5            BR   \n",
              "2              22-Apr                17  ...       5            BR   \n",
              "3              22-May                19  ...       5            BR   \n",
              "4              22-Apr                18  ...       5            BR   \n",
              "\n",
              "   Avg Delv Date diff OTIF  QTY Requested  Qty Overdelivered  QTY Received  \\\n",
              "0                 0.0  1.0          350.0                0.0         350.0   \n",
              "1                 0.0  1.0         1500.0                0.0        1500.0   \n",
              "2               -45.0  0.0          750.0                0.0          22.0   \n",
              "3               -47.0  0.0          750.0                0.0          92.0   \n",
              "4                -1.0  1.0          150.0                0.0         150.0   \n",
              "\n",
              "   Clip Score  SCAR Risk  Delivery status  \n",
              "0         1.0          1                0  \n",
              "1         1.0          1                0  \n",
              "2         0.0          1                1  \n",
              "3         0.0          1                1  \n",
              "4         1.0          1                0  \n",
              "\n",
              "[5 rows x 22 columns]"
            ],
            "text/html": [
              "\n",
              "\n",
              "  <div id=\"df-c5ea20a6-a770-4466-939e-def107576f8b\">\n",
              "    <div class=\"colab-df-container\">\n",
              "      <div>\n",
              "<style scoped>\n",
              "    .dataframe tbody tr th:only-of-type {\n",
              "        vertical-align: middle;\n",
              "    }\n",
              "\n",
              "    .dataframe tbody tr th {\n",
              "        vertical-align: top;\n",
              "    }\n",
              "\n",
              "    .dataframe thead th {\n",
              "        text-align: right;\n",
              "    }\n",
              "</style>\n",
              "<table border=\"1\" class=\"dataframe\">\n",
              "  <thead>\n",
              "    <tr style=\"text-align: right;\">\n",
              "      <th></th>\n",
              "      <th>Vendor ID</th>\n",
              "      <th>Plant</th>\n",
              "      <th>MATNR</th>\n",
              "      <th>Material</th>\n",
              "      <th>Requested Delv Date</th>\n",
              "      <th>Requested Delv MM-YYYY</th>\n",
              "      <th>Requested Delv Week</th>\n",
              "      <th>Actual Delv Date</th>\n",
              "      <th>Actual Delv MM-YYYY</th>\n",
              "      <th>Actual Delv Week</th>\n",
              "      <th>...</th>\n",
              "      <th>VGU Age</th>\n",
              "      <th>VendorCountry</th>\n",
              "      <th>Avg Delv Date diff</th>\n",
              "      <th>OTIF</th>\n",
              "      <th>QTY Requested</th>\n",
              "      <th>Qty Overdelivered</th>\n",
              "      <th>QTY Received</th>\n",
              "      <th>Clip Score</th>\n",
              "      <th>SCAR Risk</th>\n",
              "      <th>Delivery status</th>\n",
              "    </tr>\n",
              "  </thead>\n",
              "  <tbody>\n",
              "    <tr>\n",
              "      <th>0</th>\n",
              "      <td>100052427</td>\n",
              "      <td>BR02</td>\n",
              "      <td>3.000020e+11</td>\n",
              "      <td>Others</td>\n",
              "      <td>4/19/2022</td>\n",
              "      <td>22-Apr</td>\n",
              "      <td>17</td>\n",
              "      <td>4/19/2022</td>\n",
              "      <td>22-Apr</td>\n",
              "      <td>17</td>\n",
              "      <td>...</td>\n",
              "      <td>5</td>\n",
              "      <td>BR</td>\n",
              "      <td>0.0</td>\n",
              "      <td>1.0</td>\n",
              "      <td>350.0</td>\n",
              "      <td>0.0</td>\n",
              "      <td>350.0</td>\n",
              "      <td>1.0</td>\n",
              "      <td>1</td>\n",
              "      <td>0</td>\n",
              "    </tr>\n",
              "    <tr>\n",
              "      <th>1</th>\n",
              "      <td>100052427</td>\n",
              "      <td>BR02</td>\n",
              "      <td>3.000020e+11</td>\n",
              "      <td>Others</td>\n",
              "      <td>5/5/2022</td>\n",
              "      <td>22-May</td>\n",
              "      <td>19</td>\n",
              "      <td>5/5/2022</td>\n",
              "      <td>22-May</td>\n",
              "      <td>19</td>\n",
              "      <td>...</td>\n",
              "      <td>5</td>\n",
              "      <td>BR</td>\n",
              "      <td>0.0</td>\n",
              "      <td>1.0</td>\n",
              "      <td>1500.0</td>\n",
              "      <td>0.0</td>\n",
              "      <td>1500.0</td>\n",
              "      <td>1.0</td>\n",
              "      <td>1</td>\n",
              "      <td>0</td>\n",
              "    </tr>\n",
              "    <tr>\n",
              "      <th>2</th>\n",
              "      <td>100052427</td>\n",
              "      <td>BR02</td>\n",
              "      <td>3.000020e+11</td>\n",
              "      <td>Others</td>\n",
              "      <td>6/3/2022</td>\n",
              "      <td>22-Jun</td>\n",
              "      <td>23</td>\n",
              "      <td>4/19/2022</td>\n",
              "      <td>22-Apr</td>\n",
              "      <td>17</td>\n",
              "      <td>...</td>\n",
              "      <td>5</td>\n",
              "      <td>BR</td>\n",
              "      <td>-45.0</td>\n",
              "      <td>0.0</td>\n",
              "      <td>750.0</td>\n",
              "      <td>0.0</td>\n",
              "      <td>22.0</td>\n",
              "      <td>0.0</td>\n",
              "      <td>1</td>\n",
              "      <td>1</td>\n",
              "    </tr>\n",
              "    <tr>\n",
              "      <th>3</th>\n",
              "      <td>100052427</td>\n",
              "      <td>BR02</td>\n",
              "      <td>3.000020e+11</td>\n",
              "      <td>Others</td>\n",
              "      <td>6/21/2022</td>\n",
              "      <td>22-Jun</td>\n",
              "      <td>26</td>\n",
              "      <td>5/5/2022</td>\n",
              "      <td>22-May</td>\n",
              "      <td>19</td>\n",
              "      <td>...</td>\n",
              "      <td>5</td>\n",
              "      <td>BR</td>\n",
              "      <td>-47.0</td>\n",
              "      <td>0.0</td>\n",
              "      <td>750.0</td>\n",
              "      <td>0.0</td>\n",
              "      <td>92.0</td>\n",
              "      <td>0.0</td>\n",
              "      <td>1</td>\n",
              "      <td>1</td>\n",
              "    </tr>\n",
              "    <tr>\n",
              "      <th>4</th>\n",
              "      <td>100052427</td>\n",
              "      <td>BR02</td>\n",
              "      <td>3.000040e+11</td>\n",
              "      <td>Others</td>\n",
              "      <td>4/29/2022</td>\n",
              "      <td>22-Apr</td>\n",
              "      <td>18</td>\n",
              "      <td>4/28/2022</td>\n",
              "      <td>22-Apr</td>\n",
              "      <td>18</td>\n",
              "      <td>...</td>\n",
              "      <td>5</td>\n",
              "      <td>BR</td>\n",
              "      <td>-1.0</td>\n",
              "      <td>1.0</td>\n",
              "      <td>150.0</td>\n",
              "      <td>0.0</td>\n",
              "      <td>150.0</td>\n",
              "      <td>1.0</td>\n",
              "      <td>1</td>\n",
              "      <td>0</td>\n",
              "    </tr>\n",
              "  </tbody>\n",
              "</table>\n",
              "<p>5 rows × 22 columns</p>\n",
              "</div>\n",
              "      <button class=\"colab-df-convert\" onclick=\"convertToInteractive('df-c5ea20a6-a770-4466-939e-def107576f8b')\"\n",
              "              title=\"Convert this dataframe to an interactive table.\"\n",
              "              style=\"display:none;\">\n",
              "\n",
              "  <svg xmlns=\"http://www.w3.org/2000/svg\" height=\"24px\"viewBox=\"0 0 24 24\"\n",
              "       width=\"24px\">\n",
              "    <path d=\"M0 0h24v24H0V0z\" fill=\"none\"/>\n",
              "    <path d=\"M18.56 5.44l.94 2.06.94-2.06 2.06-.94-2.06-.94-.94-2.06-.94 2.06-2.06.94zm-11 1L8.5 8.5l.94-2.06 2.06-.94-2.06-.94L8.5 2.5l-.94 2.06-2.06.94zm10 10l.94 2.06.94-2.06 2.06-.94-2.06-.94-.94-2.06-.94 2.06-2.06.94z\"/><path d=\"M17.41 7.96l-1.37-1.37c-.4-.4-.92-.59-1.43-.59-.52 0-1.04.2-1.43.59L10.3 9.45l-7.72 7.72c-.78.78-.78 2.05 0 2.83L4 21.41c.39.39.9.59 1.41.59.51 0 1.02-.2 1.41-.59l7.78-7.78 2.81-2.81c.8-.78.8-2.07 0-2.86zM5.41 20L4 18.59l7.72-7.72 1.47 1.35L5.41 20z\"/>\n",
              "  </svg>\n",
              "      </button>\n",
              "\n",
              "\n",
              "\n",
              "    <div id=\"df-85f659d5-7216-448c-82c6-bc983c4b5a5a\">\n",
              "      <button class=\"colab-df-quickchart\" onclick=\"quickchart('df-85f659d5-7216-448c-82c6-bc983c4b5a5a')\"\n",
              "              title=\"Suggest charts.\"\n",
              "              style=\"display:none;\">\n",
              "\n",
              "<svg xmlns=\"http://www.w3.org/2000/svg\" height=\"24px\"viewBox=\"0 0 24 24\"\n",
              "     width=\"24px\">\n",
              "    <g>\n",
              "        <path d=\"M19 3H5c-1.1 0-2 .9-2 2v14c0 1.1.9 2 2 2h14c1.1 0 2-.9 2-2V5c0-1.1-.9-2-2-2zM9 17H7v-7h2v7zm4 0h-2V7h2v10zm4 0h-2v-4h2v4z\"/>\n",
              "    </g>\n",
              "</svg>\n",
              "      </button>\n",
              "    </div>\n",
              "\n",
              "<style>\n",
              "  .colab-df-quickchart {\n",
              "    background-color: #E8F0FE;\n",
              "    border: none;\n",
              "    border-radius: 50%;\n",
              "    cursor: pointer;\n",
              "    display: none;\n",
              "    fill: #1967D2;\n",
              "    height: 32px;\n",
              "    padding: 0 0 0 0;\n",
              "    width: 32px;\n",
              "  }\n",
              "\n",
              "  .colab-df-quickchart:hover {\n",
              "    background-color: #E2EBFA;\n",
              "    box-shadow: 0px 1px 2px rgba(60, 64, 67, 0.3), 0px 1px 3px 1px rgba(60, 64, 67, 0.15);\n",
              "    fill: #174EA6;\n",
              "  }\n",
              "\n",
              "  [theme=dark] .colab-df-quickchart {\n",
              "    background-color: #3B4455;\n",
              "    fill: #D2E3FC;\n",
              "  }\n",
              "\n",
              "  [theme=dark] .colab-df-quickchart:hover {\n",
              "    background-color: #434B5C;\n",
              "    box-shadow: 0px 1px 3px 1px rgba(0, 0, 0, 0.15);\n",
              "    filter: drop-shadow(0px 1px 2px rgba(0, 0, 0, 0.3));\n",
              "    fill: #FFFFFF;\n",
              "  }\n",
              "</style>\n",
              "\n",
              "    <script>\n",
              "      async function quickchart(key) {\n",
              "        const containerElement = document.querySelector('#' + key);\n",
              "        const charts = await google.colab.kernel.invokeFunction(\n",
              "            'suggestCharts', [key], {});\n",
              "      }\n",
              "    </script>\n",
              "\n",
              "      <script>\n",
              "\n",
              "function displayQuickchartButton(domScope) {\n",
              "  let quickchartButtonEl =\n",
              "    domScope.querySelector('#df-85f659d5-7216-448c-82c6-bc983c4b5a5a button.colab-df-quickchart');\n",
              "  quickchartButtonEl.style.display =\n",
              "    google.colab.kernel.accessAllowed ? 'block' : 'none';\n",
              "}\n",
              "\n",
              "        displayQuickchartButton(document);\n",
              "      </script>\n",
              "      <style>\n",
              "    .colab-df-container {\n",
              "      display:flex;\n",
              "      flex-wrap:wrap;\n",
              "      gap: 12px;\n",
              "    }\n",
              "\n",
              "    .colab-df-convert {\n",
              "      background-color: #E8F0FE;\n",
              "      border: none;\n",
              "      border-radius: 50%;\n",
              "      cursor: pointer;\n",
              "      display: none;\n",
              "      fill: #1967D2;\n",
              "      height: 32px;\n",
              "      padding: 0 0 0 0;\n",
              "      width: 32px;\n",
              "    }\n",
              "\n",
              "    .colab-df-convert:hover {\n",
              "      background-color: #E2EBFA;\n",
              "      box-shadow: 0px 1px 2px rgba(60, 64, 67, 0.3), 0px 1px 3px 1px rgba(60, 64, 67, 0.15);\n",
              "      fill: #174EA6;\n",
              "    }\n",
              "\n",
              "    [theme=dark] .colab-df-convert {\n",
              "      background-color: #3B4455;\n",
              "      fill: #D2E3FC;\n",
              "    }\n",
              "\n",
              "    [theme=dark] .colab-df-convert:hover {\n",
              "      background-color: #434B5C;\n",
              "      box-shadow: 0px 1px 3px 1px rgba(0, 0, 0, 0.15);\n",
              "      filter: drop-shadow(0px 1px 2px rgba(0, 0, 0, 0.3));\n",
              "      fill: #FFFFFF;\n",
              "    }\n",
              "  </style>\n",
              "\n",
              "      <script>\n",
              "        const buttonEl =\n",
              "          document.querySelector('#df-c5ea20a6-a770-4466-939e-def107576f8b button.colab-df-convert');\n",
              "        buttonEl.style.display =\n",
              "          google.colab.kernel.accessAllowed ? 'block' : 'none';\n",
              "\n",
              "        async function convertToInteractive(key) {\n",
              "          const element = document.querySelector('#df-c5ea20a6-a770-4466-939e-def107576f8b');\n",
              "          const dataTable =\n",
              "            await google.colab.kernel.invokeFunction('convertToInteractive',\n",
              "                                                     [key], {});\n",
              "          if (!dataTable) return;\n",
              "\n",
              "          const docLinkHtml = 'Like what you see? Visit the ' +\n",
              "            '<a target=\"_blank\" href=https://colab.research.google.com/notebooks/data_table.ipynb>data table notebook</a>'\n",
              "            + ' to learn more about interactive tables.';\n",
              "          element.innerHTML = '';\n",
              "          dataTable['output_type'] = 'display_data';\n",
              "          await google.colab.output.renderOutput(dataTable, element);\n",
              "          const docLink = document.createElement('div');\n",
              "          docLink.innerHTML = docLinkHtml;\n",
              "          element.appendChild(docLink);\n",
              "        }\n",
              "      </script>\n",
              "    </div>\n",
              "  </div>\n"
            ]
          },
          "metadata": {},
          "execution_count": 4
        }
      ],
      "execution_count": 4
    },
    {
      "cell_type": "code",
      "source": [
        "df.columns"
      ],
      "metadata": {
        "colab": {
          "base_uri": "https://localhost:8080/"
        },
        "id": "zSdGbLUd1qXE",
        "outputId": "ea63c3b7-3425-49d3-ddab-bc033261475c"
      },
      "execution_count": 27,
      "outputs": [
        {
          "output_type": "execute_result",
          "data": {
            "text/plain": [
              "Index(['Vendor ID', 'Plant', 'MATNR', 'Material', 'Requested Delv Date',\n",
              "       'Requested Delv MM-YYYY', 'Requested Delv Week', 'Actual Delv Date',\n",
              "       'Actual Delv MM-YYYY', 'Actual Delv Week', 'Breadman Y/N', 'SQOPE500',\n",
              "       'VGU Age', 'VendorCountry', 'Avg Delv Date diff', 'OTIF',\n",
              "       'QTY Requested', 'Qty Overdelivered', 'QTY Received', 'Clip Score',\n",
              "       'SCAR Risk', 'Delivery status'],\n",
              "      dtype='object')"
            ]
          },
          "metadata": {},
          "execution_count": 27
        }
      ]
    },
    {
      "cell_type": "markdown",
      "source": [
        "# Clubbing low priority materials"
      ],
      "metadata": {
        "id": "lCsZYydPJpYa"
      }
    },
    {
      "cell_type": "code",
      "source": [
        "pred_df3 = df[['Vendor ID', 'Plant', 'Material', 'Requested Delv Week','SQOPE500',\n",
        "       'VGU Age', 'VendorCountry','Clip Score','QTY Requested','SCAR Risk', 'Delivery status']]"
      ],
      "metadata": {
        "application/vnd.databricks.v1+cell": {
          "title": "",
          "showTitle": false,
          "inputWidgets": {},
          "nuid": "734b8464-16ac-4267-9524-6c13fc16e202"
        },
        "id": "n1Q6SxFxN37i"
      },
      "outputs": [],
      "execution_count": 28
    },
    {
      "cell_type": "code",
      "source": [
        "pred_df3.head(5)"
      ],
      "metadata": {
        "application/vnd.databricks.v1+cell": {
          "title": "",
          "showTitle": false,
          "inputWidgets": {},
          "nuid": "6ce30d3f-92c9-44d5-ab10-c3a9c20dedbb"
        },
        "id": "aLPU0qUNN37i",
        "outputId": "c40c78e9-5860-43ba-c9eb-15b629481ac6",
        "colab": {
          "base_uri": "https://localhost:8080/",
          "height": 206
        }
      },
      "outputs": [
        {
          "output_type": "execute_result",
          "data": {
            "text/plain": [
              "   Vendor ID Plant Material  Requested Delv Week SQOPE500  VGU Age  \\\n",
              "0  100052427  BR02   Others                   17     Rest        5   \n",
              "1  100052427  BR02   Others                   19     Rest        5   \n",
              "2  100052427  BR02   Others                   23     Rest        5   \n",
              "3  100052427  BR02   Others                   26     Rest        5   \n",
              "4  100052427  BR02   Others                   18     Rest        5   \n",
              "\n",
              "  VendorCountry  Clip Score  QTY Requested  SCAR Risk  Delivery status  \n",
              "0            BR         1.0          350.0          1                0  \n",
              "1            BR         1.0         1500.0          1                0  \n",
              "2            BR         0.0          750.0          1                1  \n",
              "3            BR         0.0          750.0          1                1  \n",
              "4            BR         1.0          150.0          1                0  "
            ],
            "text/html": [
              "\n",
              "\n",
              "  <div id=\"df-2adc1390-473a-4f91-83b6-a241fc23794f\">\n",
              "    <div class=\"colab-df-container\">\n",
              "      <div>\n",
              "<style scoped>\n",
              "    .dataframe tbody tr th:only-of-type {\n",
              "        vertical-align: middle;\n",
              "    }\n",
              "\n",
              "    .dataframe tbody tr th {\n",
              "        vertical-align: top;\n",
              "    }\n",
              "\n",
              "    .dataframe thead th {\n",
              "        text-align: right;\n",
              "    }\n",
              "</style>\n",
              "<table border=\"1\" class=\"dataframe\">\n",
              "  <thead>\n",
              "    <tr style=\"text-align: right;\">\n",
              "      <th></th>\n",
              "      <th>Vendor ID</th>\n",
              "      <th>Plant</th>\n",
              "      <th>Material</th>\n",
              "      <th>Requested Delv Week</th>\n",
              "      <th>SQOPE500</th>\n",
              "      <th>VGU Age</th>\n",
              "      <th>VendorCountry</th>\n",
              "      <th>Clip Score</th>\n",
              "      <th>QTY Requested</th>\n",
              "      <th>SCAR Risk</th>\n",
              "      <th>Delivery status</th>\n",
              "    </tr>\n",
              "  </thead>\n",
              "  <tbody>\n",
              "    <tr>\n",
              "      <th>0</th>\n",
              "      <td>100052427</td>\n",
              "      <td>BR02</td>\n",
              "      <td>Others</td>\n",
              "      <td>17</td>\n",
              "      <td>Rest</td>\n",
              "      <td>5</td>\n",
              "      <td>BR</td>\n",
              "      <td>1.0</td>\n",
              "      <td>350.0</td>\n",
              "      <td>1</td>\n",
              "      <td>0</td>\n",
              "    </tr>\n",
              "    <tr>\n",
              "      <th>1</th>\n",
              "      <td>100052427</td>\n",
              "      <td>BR02</td>\n",
              "      <td>Others</td>\n",
              "      <td>19</td>\n",
              "      <td>Rest</td>\n",
              "      <td>5</td>\n",
              "      <td>BR</td>\n",
              "      <td>1.0</td>\n",
              "      <td>1500.0</td>\n",
              "      <td>1</td>\n",
              "      <td>0</td>\n",
              "    </tr>\n",
              "    <tr>\n",
              "      <th>2</th>\n",
              "      <td>100052427</td>\n",
              "      <td>BR02</td>\n",
              "      <td>Others</td>\n",
              "      <td>23</td>\n",
              "      <td>Rest</td>\n",
              "      <td>5</td>\n",
              "      <td>BR</td>\n",
              "      <td>0.0</td>\n",
              "      <td>750.0</td>\n",
              "      <td>1</td>\n",
              "      <td>1</td>\n",
              "    </tr>\n",
              "    <tr>\n",
              "      <th>3</th>\n",
              "      <td>100052427</td>\n",
              "      <td>BR02</td>\n",
              "      <td>Others</td>\n",
              "      <td>26</td>\n",
              "      <td>Rest</td>\n",
              "      <td>5</td>\n",
              "      <td>BR</td>\n",
              "      <td>0.0</td>\n",
              "      <td>750.0</td>\n",
              "      <td>1</td>\n",
              "      <td>1</td>\n",
              "    </tr>\n",
              "    <tr>\n",
              "      <th>4</th>\n",
              "      <td>100052427</td>\n",
              "      <td>BR02</td>\n",
              "      <td>Others</td>\n",
              "      <td>18</td>\n",
              "      <td>Rest</td>\n",
              "      <td>5</td>\n",
              "      <td>BR</td>\n",
              "      <td>1.0</td>\n",
              "      <td>150.0</td>\n",
              "      <td>1</td>\n",
              "      <td>0</td>\n",
              "    </tr>\n",
              "  </tbody>\n",
              "</table>\n",
              "</div>\n",
              "      <button class=\"colab-df-convert\" onclick=\"convertToInteractive('df-2adc1390-473a-4f91-83b6-a241fc23794f')\"\n",
              "              title=\"Convert this dataframe to an interactive table.\"\n",
              "              style=\"display:none;\">\n",
              "\n",
              "  <svg xmlns=\"http://www.w3.org/2000/svg\" height=\"24px\"viewBox=\"0 0 24 24\"\n",
              "       width=\"24px\">\n",
              "    <path d=\"M0 0h24v24H0V0z\" fill=\"none\"/>\n",
              "    <path d=\"M18.56 5.44l.94 2.06.94-2.06 2.06-.94-2.06-.94-.94-2.06-.94 2.06-2.06.94zm-11 1L8.5 8.5l.94-2.06 2.06-.94-2.06-.94L8.5 2.5l-.94 2.06-2.06.94zm10 10l.94 2.06.94-2.06 2.06-.94-2.06-.94-.94-2.06-.94 2.06-2.06.94z\"/><path d=\"M17.41 7.96l-1.37-1.37c-.4-.4-.92-.59-1.43-.59-.52 0-1.04.2-1.43.59L10.3 9.45l-7.72 7.72c-.78.78-.78 2.05 0 2.83L4 21.41c.39.39.9.59 1.41.59.51 0 1.02-.2 1.41-.59l7.78-7.78 2.81-2.81c.8-.78.8-2.07 0-2.86zM5.41 20L4 18.59l7.72-7.72 1.47 1.35L5.41 20z\"/>\n",
              "  </svg>\n",
              "      </button>\n",
              "\n",
              "\n",
              "\n",
              "    <div id=\"df-50cab08a-180a-4af2-9142-4d5c559c2802\">\n",
              "      <button class=\"colab-df-quickchart\" onclick=\"quickchart('df-50cab08a-180a-4af2-9142-4d5c559c2802')\"\n",
              "              title=\"Suggest charts.\"\n",
              "              style=\"display:none;\">\n",
              "\n",
              "<svg xmlns=\"http://www.w3.org/2000/svg\" height=\"24px\"viewBox=\"0 0 24 24\"\n",
              "     width=\"24px\">\n",
              "    <g>\n",
              "        <path d=\"M19 3H5c-1.1 0-2 .9-2 2v14c0 1.1.9 2 2 2h14c1.1 0 2-.9 2-2V5c0-1.1-.9-2-2-2zM9 17H7v-7h2v7zm4 0h-2V7h2v10zm4 0h-2v-4h2v4z\"/>\n",
              "    </g>\n",
              "</svg>\n",
              "      </button>\n",
              "    </div>\n",
              "\n",
              "<style>\n",
              "  .colab-df-quickchart {\n",
              "    background-color: #E8F0FE;\n",
              "    border: none;\n",
              "    border-radius: 50%;\n",
              "    cursor: pointer;\n",
              "    display: none;\n",
              "    fill: #1967D2;\n",
              "    height: 32px;\n",
              "    padding: 0 0 0 0;\n",
              "    width: 32px;\n",
              "  }\n",
              "\n",
              "  .colab-df-quickchart:hover {\n",
              "    background-color: #E2EBFA;\n",
              "    box-shadow: 0px 1px 2px rgba(60, 64, 67, 0.3), 0px 1px 3px 1px rgba(60, 64, 67, 0.15);\n",
              "    fill: #174EA6;\n",
              "  }\n",
              "\n",
              "  [theme=dark] .colab-df-quickchart {\n",
              "    background-color: #3B4455;\n",
              "    fill: #D2E3FC;\n",
              "  }\n",
              "\n",
              "  [theme=dark] .colab-df-quickchart:hover {\n",
              "    background-color: #434B5C;\n",
              "    box-shadow: 0px 1px 3px 1px rgba(0, 0, 0, 0.15);\n",
              "    filter: drop-shadow(0px 1px 2px rgba(0, 0, 0, 0.3));\n",
              "    fill: #FFFFFF;\n",
              "  }\n",
              "</style>\n",
              "\n",
              "    <script>\n",
              "      async function quickchart(key) {\n",
              "        const containerElement = document.querySelector('#' + key);\n",
              "        const charts = await google.colab.kernel.invokeFunction(\n",
              "            'suggestCharts', [key], {});\n",
              "      }\n",
              "    </script>\n",
              "\n",
              "      <script>\n",
              "\n",
              "function displayQuickchartButton(domScope) {\n",
              "  let quickchartButtonEl =\n",
              "    domScope.querySelector('#df-50cab08a-180a-4af2-9142-4d5c559c2802 button.colab-df-quickchart');\n",
              "  quickchartButtonEl.style.display =\n",
              "    google.colab.kernel.accessAllowed ? 'block' : 'none';\n",
              "}\n",
              "\n",
              "        displayQuickchartButton(document);\n",
              "      </script>\n",
              "      <style>\n",
              "    .colab-df-container {\n",
              "      display:flex;\n",
              "      flex-wrap:wrap;\n",
              "      gap: 12px;\n",
              "    }\n",
              "\n",
              "    .colab-df-convert {\n",
              "      background-color: #E8F0FE;\n",
              "      border: none;\n",
              "      border-radius: 50%;\n",
              "      cursor: pointer;\n",
              "      display: none;\n",
              "      fill: #1967D2;\n",
              "      height: 32px;\n",
              "      padding: 0 0 0 0;\n",
              "      width: 32px;\n",
              "    }\n",
              "\n",
              "    .colab-df-convert:hover {\n",
              "      background-color: #E2EBFA;\n",
              "      box-shadow: 0px 1px 2px rgba(60, 64, 67, 0.3), 0px 1px 3px 1px rgba(60, 64, 67, 0.15);\n",
              "      fill: #174EA6;\n",
              "    }\n",
              "\n",
              "    [theme=dark] .colab-df-convert {\n",
              "      background-color: #3B4455;\n",
              "      fill: #D2E3FC;\n",
              "    }\n",
              "\n",
              "    [theme=dark] .colab-df-convert:hover {\n",
              "      background-color: #434B5C;\n",
              "      box-shadow: 0px 1px 3px 1px rgba(0, 0, 0, 0.15);\n",
              "      filter: drop-shadow(0px 1px 2px rgba(0, 0, 0, 0.3));\n",
              "      fill: #FFFFFF;\n",
              "    }\n",
              "  </style>\n",
              "\n",
              "      <script>\n",
              "        const buttonEl =\n",
              "          document.querySelector('#df-2adc1390-473a-4f91-83b6-a241fc23794f button.colab-df-convert');\n",
              "        buttonEl.style.display =\n",
              "          google.colab.kernel.accessAllowed ? 'block' : 'none';\n",
              "\n",
              "        async function convertToInteractive(key) {\n",
              "          const element = document.querySelector('#df-2adc1390-473a-4f91-83b6-a241fc23794f');\n",
              "          const dataTable =\n",
              "            await google.colab.kernel.invokeFunction('convertToInteractive',\n",
              "                                                     [key], {});\n",
              "          if (!dataTable) return;\n",
              "\n",
              "          const docLinkHtml = 'Like what you see? Visit the ' +\n",
              "            '<a target=\"_blank\" href=https://colab.research.google.com/notebooks/data_table.ipynb>data table notebook</a>'\n",
              "            + ' to learn more about interactive tables.';\n",
              "          element.innerHTML = '';\n",
              "          dataTable['output_type'] = 'display_data';\n",
              "          await google.colab.output.renderOutput(dataTable, element);\n",
              "          const docLink = document.createElement('div');\n",
              "          docLink.innerHTML = docLinkHtml;\n",
              "          element.appendChild(docLink);\n",
              "        }\n",
              "      </script>\n",
              "    </div>\n",
              "  </div>\n"
            ]
          },
          "metadata": {},
          "execution_count": 19
        }
      ],
      "execution_count": 19
    },
    {
      "cell_type": "code",
      "source": [
        "#Preprocessing\n",
        "pred_df3.loc[pred_df3[\"VGU Age\"] == \"(blank)\", \"VGU Age\"] = 0\n",
        "pred_df3.loc[pred_df3[\"SQOPE500\"] == \"Rest\", \"SQOPE500\"] = 0\n",
        "pred_df3.loc[pred_df3[\"SQOPE500\"] == \"Top500\", \"SQOPE500\"] = 1\n",
        "pred_df3['Requested Delv Week'] = pred_df3['Requested Delv Week'].astype('int')\n",
        "pred_df3['VGU Age'] = pred_df3['VGU Age'].astype('int')\n",
        "pred_df3['QTY Requested'] = pred_df3['QTY Requested'].astype('float')\n",
        "pred_df3['SCAR Risk'] = pred_df3['SCAR Risk'].astype('int')"
      ],
      "metadata": {
        "application/vnd.databricks.v1+cell": {
          "title": "",
          "showTitle": false,
          "inputWidgets": {},
          "nuid": "84fb8925-dc91-411f-a18f-74e1c23015f7"
        },
        "id": "7elpUDZEN37j"
      },
      "outputs": [],
      "execution_count": 29
    },
    {
      "cell_type": "code",
      "source": [
        "pred_df3 = pred_df3[pred_df3['Material'] != \"Others\"]\n",
        "pred_df3.head(5)"
      ],
      "metadata": {
        "application/vnd.databricks.v1+cell": {
          "title": "",
          "showTitle": false,
          "inputWidgets": {},
          "nuid": "cd6b456b-5c9a-4917-b4cb-966bc9e83b52"
        },
        "id": "0JicFKtmN37j",
        "outputId": "14b2a286-c424-46bd-aad9-9eada31c222b",
        "colab": {
          "base_uri": "https://localhost:8080/",
          "height": 206
        }
      },
      "outputs": [
        {
          "output_type": "execute_result",
          "data": {
            "text/plain": [
              "    Vendor ID Plant     Material  Requested Delv Week SQOPE500  VGU Age  \\\n",
              "16  100052427  BR02  3.00006E+11                   50        0        5   \n",
              "17  100052427  BR02  3.00006E+11                    6        0        5   \n",
              "18  100052427  BR02  3.00006E+11                    9        0        5   \n",
              "19  100052427  BR02  3.00006E+11                   11        0        5   \n",
              "20  100052427  BR02  3.00006E+11                   12        0        5   \n",
              "\n",
              "   VendorCountry  Clip Score  QTY Requested  SCAR Risk  Delivery status  \n",
              "16            BR         1.0          100.0          1                0  \n",
              "17            BR         1.0         1500.0          1                0  \n",
              "18            BR         0.0         1000.0          1                1  \n",
              "19            BR         1.0         2000.0          1                0  \n",
              "20            BR         1.0         2000.0          1                0  "
            ],
            "text/html": [
              "\n",
              "\n",
              "  <div id=\"df-f06c14b9-7732-4881-bc24-8f637a415400\">\n",
              "    <div class=\"colab-df-container\">\n",
              "      <div>\n",
              "<style scoped>\n",
              "    .dataframe tbody tr th:only-of-type {\n",
              "        vertical-align: middle;\n",
              "    }\n",
              "\n",
              "    .dataframe tbody tr th {\n",
              "        vertical-align: top;\n",
              "    }\n",
              "\n",
              "    .dataframe thead th {\n",
              "        text-align: right;\n",
              "    }\n",
              "</style>\n",
              "<table border=\"1\" class=\"dataframe\">\n",
              "  <thead>\n",
              "    <tr style=\"text-align: right;\">\n",
              "      <th></th>\n",
              "      <th>Vendor ID</th>\n",
              "      <th>Plant</th>\n",
              "      <th>Material</th>\n",
              "      <th>Requested Delv Week</th>\n",
              "      <th>SQOPE500</th>\n",
              "      <th>VGU Age</th>\n",
              "      <th>VendorCountry</th>\n",
              "      <th>Clip Score</th>\n",
              "      <th>QTY Requested</th>\n",
              "      <th>SCAR Risk</th>\n",
              "      <th>Delivery status</th>\n",
              "    </tr>\n",
              "  </thead>\n",
              "  <tbody>\n",
              "    <tr>\n",
              "      <th>16</th>\n",
              "      <td>100052427</td>\n",
              "      <td>BR02</td>\n",
              "      <td>3.00006E+11</td>\n",
              "      <td>50</td>\n",
              "      <td>0</td>\n",
              "      <td>5</td>\n",
              "      <td>BR</td>\n",
              "      <td>1.0</td>\n",
              "      <td>100.0</td>\n",
              "      <td>1</td>\n",
              "      <td>0</td>\n",
              "    </tr>\n",
              "    <tr>\n",
              "      <th>17</th>\n",
              "      <td>100052427</td>\n",
              "      <td>BR02</td>\n",
              "      <td>3.00006E+11</td>\n",
              "      <td>6</td>\n",
              "      <td>0</td>\n",
              "      <td>5</td>\n",
              "      <td>BR</td>\n",
              "      <td>1.0</td>\n",
              "      <td>1500.0</td>\n",
              "      <td>1</td>\n",
              "      <td>0</td>\n",
              "    </tr>\n",
              "    <tr>\n",
              "      <th>18</th>\n",
              "      <td>100052427</td>\n",
              "      <td>BR02</td>\n",
              "      <td>3.00006E+11</td>\n",
              "      <td>9</td>\n",
              "      <td>0</td>\n",
              "      <td>5</td>\n",
              "      <td>BR</td>\n",
              "      <td>0.0</td>\n",
              "      <td>1000.0</td>\n",
              "      <td>1</td>\n",
              "      <td>1</td>\n",
              "    </tr>\n",
              "    <tr>\n",
              "      <th>19</th>\n",
              "      <td>100052427</td>\n",
              "      <td>BR02</td>\n",
              "      <td>3.00006E+11</td>\n",
              "      <td>11</td>\n",
              "      <td>0</td>\n",
              "      <td>5</td>\n",
              "      <td>BR</td>\n",
              "      <td>1.0</td>\n",
              "      <td>2000.0</td>\n",
              "      <td>1</td>\n",
              "      <td>0</td>\n",
              "    </tr>\n",
              "    <tr>\n",
              "      <th>20</th>\n",
              "      <td>100052427</td>\n",
              "      <td>BR02</td>\n",
              "      <td>3.00006E+11</td>\n",
              "      <td>12</td>\n",
              "      <td>0</td>\n",
              "      <td>5</td>\n",
              "      <td>BR</td>\n",
              "      <td>1.0</td>\n",
              "      <td>2000.0</td>\n",
              "      <td>1</td>\n",
              "      <td>0</td>\n",
              "    </tr>\n",
              "  </tbody>\n",
              "</table>\n",
              "</div>\n",
              "      <button class=\"colab-df-convert\" onclick=\"convertToInteractive('df-f06c14b9-7732-4881-bc24-8f637a415400')\"\n",
              "              title=\"Convert this dataframe to an interactive table.\"\n",
              "              style=\"display:none;\">\n",
              "\n",
              "  <svg xmlns=\"http://www.w3.org/2000/svg\" height=\"24px\"viewBox=\"0 0 24 24\"\n",
              "       width=\"24px\">\n",
              "    <path d=\"M0 0h24v24H0V0z\" fill=\"none\"/>\n",
              "    <path d=\"M18.56 5.44l.94 2.06.94-2.06 2.06-.94-2.06-.94-.94-2.06-.94 2.06-2.06.94zm-11 1L8.5 8.5l.94-2.06 2.06-.94-2.06-.94L8.5 2.5l-.94 2.06-2.06.94zm10 10l.94 2.06.94-2.06 2.06-.94-2.06-.94-.94-2.06-.94 2.06-2.06.94z\"/><path d=\"M17.41 7.96l-1.37-1.37c-.4-.4-.92-.59-1.43-.59-.52 0-1.04.2-1.43.59L10.3 9.45l-7.72 7.72c-.78.78-.78 2.05 0 2.83L4 21.41c.39.39.9.59 1.41.59.51 0 1.02-.2 1.41-.59l7.78-7.78 2.81-2.81c.8-.78.8-2.07 0-2.86zM5.41 20L4 18.59l7.72-7.72 1.47 1.35L5.41 20z\"/>\n",
              "  </svg>\n",
              "      </button>\n",
              "\n",
              "\n",
              "\n",
              "    <div id=\"df-0b760603-8ae3-4a59-8db3-db7bb3683e6c\">\n",
              "      <button class=\"colab-df-quickchart\" onclick=\"quickchart('df-0b760603-8ae3-4a59-8db3-db7bb3683e6c')\"\n",
              "              title=\"Suggest charts.\"\n",
              "              style=\"display:none;\">\n",
              "\n",
              "<svg xmlns=\"http://www.w3.org/2000/svg\" height=\"24px\"viewBox=\"0 0 24 24\"\n",
              "     width=\"24px\">\n",
              "    <g>\n",
              "        <path d=\"M19 3H5c-1.1 0-2 .9-2 2v14c0 1.1.9 2 2 2h14c1.1 0 2-.9 2-2V5c0-1.1-.9-2-2-2zM9 17H7v-7h2v7zm4 0h-2V7h2v10zm4 0h-2v-4h2v4z\"/>\n",
              "    </g>\n",
              "</svg>\n",
              "      </button>\n",
              "    </div>\n",
              "\n",
              "<style>\n",
              "  .colab-df-quickchart {\n",
              "    background-color: #E8F0FE;\n",
              "    border: none;\n",
              "    border-radius: 50%;\n",
              "    cursor: pointer;\n",
              "    display: none;\n",
              "    fill: #1967D2;\n",
              "    height: 32px;\n",
              "    padding: 0 0 0 0;\n",
              "    width: 32px;\n",
              "  }\n",
              "\n",
              "  .colab-df-quickchart:hover {\n",
              "    background-color: #E2EBFA;\n",
              "    box-shadow: 0px 1px 2px rgba(60, 64, 67, 0.3), 0px 1px 3px 1px rgba(60, 64, 67, 0.15);\n",
              "    fill: #174EA6;\n",
              "  }\n",
              "\n",
              "  [theme=dark] .colab-df-quickchart {\n",
              "    background-color: #3B4455;\n",
              "    fill: #D2E3FC;\n",
              "  }\n",
              "\n",
              "  [theme=dark] .colab-df-quickchart:hover {\n",
              "    background-color: #434B5C;\n",
              "    box-shadow: 0px 1px 3px 1px rgba(0, 0, 0, 0.15);\n",
              "    filter: drop-shadow(0px 1px 2px rgba(0, 0, 0, 0.3));\n",
              "    fill: #FFFFFF;\n",
              "  }\n",
              "</style>\n",
              "\n",
              "    <script>\n",
              "      async function quickchart(key) {\n",
              "        const containerElement = document.querySelector('#' + key);\n",
              "        const charts = await google.colab.kernel.invokeFunction(\n",
              "            'suggestCharts', [key], {});\n",
              "      }\n",
              "    </script>\n",
              "\n",
              "      <script>\n",
              "\n",
              "function displayQuickchartButton(domScope) {\n",
              "  let quickchartButtonEl =\n",
              "    domScope.querySelector('#df-0b760603-8ae3-4a59-8db3-db7bb3683e6c button.colab-df-quickchart');\n",
              "  quickchartButtonEl.style.display =\n",
              "    google.colab.kernel.accessAllowed ? 'block' : 'none';\n",
              "}\n",
              "\n",
              "        displayQuickchartButton(document);\n",
              "      </script>\n",
              "      <style>\n",
              "    .colab-df-container {\n",
              "      display:flex;\n",
              "      flex-wrap:wrap;\n",
              "      gap: 12px;\n",
              "    }\n",
              "\n",
              "    .colab-df-convert {\n",
              "      background-color: #E8F0FE;\n",
              "      border: none;\n",
              "      border-radius: 50%;\n",
              "      cursor: pointer;\n",
              "      display: none;\n",
              "      fill: #1967D2;\n",
              "      height: 32px;\n",
              "      padding: 0 0 0 0;\n",
              "      width: 32px;\n",
              "    }\n",
              "\n",
              "    .colab-df-convert:hover {\n",
              "      background-color: #E2EBFA;\n",
              "      box-shadow: 0px 1px 2px rgba(60, 64, 67, 0.3), 0px 1px 3px 1px rgba(60, 64, 67, 0.15);\n",
              "      fill: #174EA6;\n",
              "    }\n",
              "\n",
              "    [theme=dark] .colab-df-convert {\n",
              "      background-color: #3B4455;\n",
              "      fill: #D2E3FC;\n",
              "    }\n",
              "\n",
              "    [theme=dark] .colab-df-convert:hover {\n",
              "      background-color: #434B5C;\n",
              "      box-shadow: 0px 1px 3px 1px rgba(0, 0, 0, 0.15);\n",
              "      filter: drop-shadow(0px 1px 2px rgba(0, 0, 0, 0.3));\n",
              "      fill: #FFFFFF;\n",
              "    }\n",
              "  </style>\n",
              "\n",
              "      <script>\n",
              "        const buttonEl =\n",
              "          document.querySelector('#df-f06c14b9-7732-4881-bc24-8f637a415400 button.colab-df-convert');\n",
              "        buttonEl.style.display =\n",
              "          google.colab.kernel.accessAllowed ? 'block' : 'none';\n",
              "\n",
              "        async function convertToInteractive(key) {\n",
              "          const element = document.querySelector('#df-f06c14b9-7732-4881-bc24-8f637a415400');\n",
              "          const dataTable =\n",
              "            await google.colab.kernel.invokeFunction('convertToInteractive',\n",
              "                                                     [key], {});\n",
              "          if (!dataTable) return;\n",
              "\n",
              "          const docLinkHtml = 'Like what you see? Visit the ' +\n",
              "            '<a target=\"_blank\" href=https://colab.research.google.com/notebooks/data_table.ipynb>data table notebook</a>'\n",
              "            + ' to learn more about interactive tables.';\n",
              "          element.innerHTML = '';\n",
              "          dataTable['output_type'] = 'display_data';\n",
              "          await google.colab.output.renderOutput(dataTable, element);\n",
              "          const docLink = document.createElement('div');\n",
              "          docLink.innerHTML = docLinkHtml;\n",
              "          element.appendChild(docLink);\n",
              "        }\n",
              "      </script>\n",
              "    </div>\n",
              "  </div>\n"
            ]
          },
          "metadata": {},
          "execution_count": 30
        }
      ],
      "execution_count": 30
    },
    {
      "cell_type": "code",
      "source": [
        "pred_df3['Material'].nunique()"
      ],
      "metadata": {
        "application/vnd.databricks.v1+cell": {
          "title": "",
          "showTitle": false,
          "inputWidgets": {},
          "nuid": "c86f3097-51f7-40ac-a85d-7f4229497bd9"
        },
        "id": "THngZqn7N37k",
        "outputId": "b93cf782-caa7-41a1-e6f9-00bab1e91d4d",
        "colab": {
          "base_uri": "https://localhost:8080/"
        }
      },
      "outputs": [
        {
          "output_type": "execute_result",
          "data": {
            "text/plain": [
              "117"
            ]
          },
          "metadata": {},
          "execution_count": 12
        }
      ],
      "execution_count": 12
    },
    {
      "cell_type": "code",
      "source": [
        "X = pred_df3.drop(['Delivery status'], axis=1)\n",
        "y = pred_df3['Delivery status']\n",
        "X = X.drop(['Vendor ID'], axis = 1)\n",
        "cat=['Plant','SQOPE500','VendorCountry', 'Material']\n",
        "for i in cat:\n",
        "    pred_df3[i] = pred_df3[i].astype('category')\n",
        "numeric_transformer = Pipeline(steps=[('scaler', StandardScaler())])\n",
        "categorical_transformer = OneHotEncoder(handle_unknown='ignore')\n",
        "preprocessor = ColumnTransformer(\n",
        "    transformers=[\n",
        "        ('cat', categorical_transformer, cat)])"
      ],
      "metadata": {
        "application/vnd.databricks.v1+cell": {
          "title": "",
          "showTitle": false,
          "inputWidgets": {},
          "nuid": "fdc3b613-0b2d-48a9-8814-d0411c21e8fa"
        },
        "id": "8tHrcz9hN37l"
      },
      "outputs": [],
      "execution_count": 31
    },
    {
      "cell_type": "code",
      "source": [
        "X_train,X_test,y_train,y_test = train_test_split(X,y,test_size=0.2,random_state=1)"
      ],
      "metadata": {
        "application/vnd.databricks.v1+cell": {
          "title": "",
          "showTitle": false,
          "inputWidgets": {},
          "nuid": "5cb17d36-3dc6-43b1-ba1b-7024169a9c77"
        },
        "id": "TaHi11aoN37m"
      },
      "outputs": [],
      "execution_count": 54
    },
    {
      "cell_type": "code",
      "source": [
        "# Logistic Regression\n",
        "lr = Pipeline(steps=[('preprocessor', preprocessor),\n",
        "                     ('lr', LogisticRegression())])\n",
        "lr.fit(X_train, y_train)\n",
        "print(\"model Train score: %.3f\" % lr.score(X_train, y_train))\n",
        "print(\"model Test score: %.3f\" % lr.score(X_test, y_test))"
      ],
      "metadata": {
        "application/vnd.databricks.v1+cell": {
          "title": "",
          "showTitle": false,
          "inputWidgets": {},
          "nuid": "d230718d-4178-4c36-bc55-63be200693a8"
        },
        "id": "Kmdy9Ip9N37m",
        "colab": {
          "base_uri": "https://localhost:8080/"
        },
        "outputId": "081d1f9c-fcb6-4a71-eca8-5ee23e8b59fd"
      },
      "outputs": [
        {
          "output_type": "stream",
          "name": "stdout",
          "text": [
            "model Train score: 0.867\n",
            "model Test score: 0.868\n"
          ]
        }
      ],
      "execution_count": 55
    },
    {
      "cell_type": "code",
      "source": [
        "y_pred=lr.predict(X_test)\n",
        "cnf_matrix = confusion_matrix(np.array(y_test).astype('int'), y_pred.astype(int), labels=[1,0])\n",
        "cnf_matrix"
      ],
      "metadata": {
        "colab": {
          "base_uri": "https://localhost:8080/"
        },
        "id": "Ob7fAGKnBPL7",
        "outputId": "ebcf9537-9a8b-4e59-afd9-82caecdafae2"
      },
      "execution_count": 56,
      "outputs": [
        {
          "output_type": "execute_result",
          "data": {
            "text/plain": [
              "array([[ 3191,  9852],\n",
              "       [ 1625, 72335]])"
            ]
          },
          "metadata": {},
          "execution_count": 56
        }
      ]
    },
    {
      "cell_type": "code",
      "source": [
        "# Random Forest classification\n",
        "rfc = Pipeline(steps=[('preprocessor', preprocessor),\n",
        "                     ('rf', RandomForestClassifier(random_state=0))])\n",
        "rfc.fit(X_train, y_train)\n",
        "print(\"model Train score: %.3f\" % rfc.score(X_train, y_train))\n",
        "print(\"model Test score: %.3f\" % rfc.score(X_test, y_test))"
      ],
      "metadata": {
        "colab": {
          "base_uri": "https://localhost:8080/"
        },
        "id": "BUzVZLNU7ljb",
        "outputId": "04d8c72b-21ec-4775-a971-1ac03df58ffd"
      },
      "execution_count": 57,
      "outputs": [
        {
          "output_type": "stream",
          "name": "stdout",
          "text": [
            "model Train score: 0.871\n",
            "model Test score: 0.872\n"
          ]
        }
      ]
    },
    {
      "cell_type": "code",
      "source": [
        "y_pred=rfc.predict(X_test)\n",
        "cnf_matrix = confusion_matrix(np.array(y_test).astype('int'), y_pred.astype(int), labels=[1,0])\n",
        "cnf_matrix"
      ],
      "metadata": {
        "colab": {
          "base_uri": "https://localhost:8080/"
        },
        "id": "4Q8yEY_PCE2b",
        "outputId": "51770252-5e3a-4911-a540-114e8226b5c8"
      },
      "execution_count": 58,
      "outputs": [
        {
          "output_type": "execute_result",
          "data": {
            "text/plain": [
              "array([[ 3749,  9294],\n",
              "       [ 1884, 72076]])"
            ]
          },
          "metadata": {},
          "execution_count": 58
        }
      ]
    },
    {
      "cell_type": "code",
      "source": [
        "# XGB classification\n",
        "xgb = Pipeline(steps=[('preprocessor', preprocessor),\n",
        "                     ('xg', xgb.XGBClassifier())])\n",
        "xgb.fit(X_train, y_train)\n",
        "print(\"model Train score: %.3f\" % xgb.score(X_train, y_train))\n",
        "print(\"model Test score: %.3f\" % xgb.score(X_test, y_test))"
      ],
      "metadata": {
        "colab": {
          "base_uri": "https://localhost:8080/"
        },
        "id": "jRdvYLYV9MUG",
        "outputId": "277a499e-b771-4ae0-8a1b-c1bec2dc7a0f"
      },
      "execution_count": 59,
      "outputs": [
        {
          "output_type": "stream",
          "name": "stdout",
          "text": [
            "model Train score: 0.871\n",
            "model Test score: 0.872\n"
          ]
        }
      ]
    },
    {
      "cell_type": "code",
      "source": [
        "y_pred=xgb.predict(X_test)\n",
        "cnf_matrix = confusion_matrix(np.array(y_test).astype('int'), y_pred.astype(int), labels=[1,0])\n",
        "cnf_matrix"
      ],
      "metadata": {
        "colab": {
          "base_uri": "https://localhost:8080/"
        },
        "id": "cl83bFQ2CKIl",
        "outputId": "a10ca2c5-e727-47a5-c61b-21d4cd242472"
      },
      "execution_count": 60,
      "outputs": [
        {
          "output_type": "execute_result",
          "data": {
            "text/plain": [
              "array([[ 3740,  9303],\n",
              "       [ 1862, 72098]])"
            ]
          },
          "metadata": {},
          "execution_count": 60
        }
      ]
    },
    {
      "cell_type": "code",
      "source": [
        "# Linear SVC classification\n",
        "sv = Pipeline(steps=[('preprocessor', preprocessor),\n",
        "                      ('sv', LinearSVC())])\n",
        "sv.fit(X_train, y_train)\n",
        "print(\"model Train score: %.3f\" % sv.score(X_train, y_train))\n",
        "print(\"model Test score: %.3f\" % sv.score(X_test, y_test))"
      ],
      "metadata": {
        "colab": {
          "base_uri": "https://localhost:8080/"
        },
        "id": "_0pU4x8UyOZg",
        "outputId": "d3ac2e9b-70a8-4ad9-a69d-e4e392a232c8"
      },
      "execution_count": 50,
      "outputs": [
        {
          "output_type": "stream",
          "name": "stdout",
          "text": [
            "model Train score: 0.867\n",
            "model Test score: 0.868\n"
          ]
        }
      ]
    },
    {
      "cell_type": "code",
      "source": [
        "y_pred=sv.predict(X_test)\n",
        "cnf_matrix = confusion_matrix(np.array(y_test).astype('int'), y_pred.astype(int), labels=[1,0])\n",
        "cnf_matrix"
      ],
      "metadata": {
        "colab": {
          "base_uri": "https://localhost:8080/"
        },
        "id": "898lyzvMBmvx",
        "outputId": "80cc6175-b6f2-4db0-8c7b-ac0c9e2b358f"
      },
      "execution_count": 53,
      "outputs": [
        {
          "output_type": "execute_result",
          "data": {
            "text/plain": [
              "array([[ 3076,  9967],\n",
              "       [ 1506, 72454]])"
            ]
          },
          "metadata": {},
          "execution_count": 53
        }
      ]
    }
  ],
  "metadata": {
    "application/vnd.databricks.v1+notebook": {
      "notebookName": "POC5",
      "dashboards": [],
      "notebookMetadata": {
        "pythonIndentUnit": 2
      },
      "language": "python",
      "widgets": {},
      "notebookOrigID": 1888299083190825
    },
    "colab": {
      "provenance": []
    },
    "language_info": {
      "name": "python"
    },
    "kernelspec": {
      "name": "python3",
      "display_name": "Python 3"
    }
  },
  "nbformat": 4,
  "nbformat_minor": 0
}